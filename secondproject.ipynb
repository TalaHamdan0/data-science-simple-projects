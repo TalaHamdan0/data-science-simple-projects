{
  "metadata": {
    "kernelspec": {
      "name": "python",
      "display_name": "Python (Pyodide)",
      "language": "python"
    },
    "language_info": {
      "codemirror_mode": {
        "name": "python",
        "version": 3
      },
      "file_extension": ".py",
      "mimetype": "text/x-python",
      "name": "python",
      "nbconvert_exporter": "python",
      "pygments_lexer": "ipython3",
      "version": "3.8"
    }
  },
  "nbformat_minor": 5,
  "nbformat": 4,
  "cells": [
    {
      "id": "68d431ba-ed62-4549-b504-1c518beee5be",
      "cell_type": "markdown",
      "source": "#**SECOND PROJECT**#",
      "metadata": {}
    },
    {
      "id": "15edc356-a0c0-4b13-8c44-dc80e82e083e",
      "cell_type": "code",
      "source": "import pandas as pd\ndf=pd.read_csv(\"student.csv\")\nprint(df.head)",
      "metadata": {
        "trusted": true
      },
      "outputs": [],
      "execution_count": null
    },
    {
      "id": "d8ae249c-6ed2-45ad-a0d8-54278052f407",
      "cell_type": "markdown",
      "source": "#**cleansing data**#",
      "metadata": {}
    },
    {
      "id": "8d22421e-4094-49a5-9af0-260903aca367",
      "cell_type": "code",
      "source": "df=df.dropna()\ndf[\"age\"]=df[\"age\"].astype(int)\ndf[\"score\"]=df[\"score\"].astype(int)\nprint(\"\\n statical description for num\")\n",
      "metadata": {
        "trusted": true
      },
      "outputs": [],
      "execution_count": null
    },
    {
      "id": "a044a96b-45dd-4a21-ab1b-2d57199fca63",
      "cell_type": "markdown",
      "source": "#**analysis**#",
      "metadata": {}
    },
    {
      "id": "0d2c6cc6-9a2d-4d7d-8acf-130824a68d46",
      "cell_type": "code",
      "source": " print(\"\\n statical description for num:\")\nprint(df.describe())\nprint(\"\\n number of students for each category\")\nprint(df[\"category\"].value_counts())",
      "metadata": {
        "trusted": true
      },
      "outputs": [],
      "execution_count": null
    },
    {
      "id": "356edb66-d2f7-4b9e-9bf7-754b6a639734",
      "cell_type": "markdown",
      "source": "#**visualization**#",
      "metadata": {}
    },
    {
      "id": "94340088-c211-4391-8294-65c32f294c23",
      "cell_type": "code",
      "source": "import matplotlib as plt\nimport seaborn as sns\n\nsns.countplot(x=\"category\",data=df)\nplt.show()\nplt.title(\"number of students for each category\")\nplt.show()\n\nsns.histplot(df[\"score\"],bins=5,kde=true)\nplt.title(\"scores\")\nplt.show()\n\nsns.scatterplot(x=\"age\",y=\"score\",data=df)\nplt.title(\"relationship between age and score\")\nplt.show()",
      "metadata": {
        "trusted": true
      },
      "outputs": [],
      "execution_count": null
    }
  ]
}