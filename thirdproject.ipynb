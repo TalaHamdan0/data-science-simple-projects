{
  "metadata": {
    "kernelspec": {
      "name": "python",
      "display_name": "Python (Pyodide)",
      "language": "python"
    },
    "language_info": {
      "codemirror_mode": {
        "name": "python",
        "version": 3
      },
      "file_extension": ".py",
      "mimetype": "text/x-python",
      "name": "python",
      "nbconvert_exporter": "python",
      "pygments_lexer": "ipython3",
      "version": "3.8"
    }
  },
  "nbformat_minor": 5,
  "nbformat": 4,
  "cells": [
    {
      "id": "008fe1a7-4cf2-4398-bb81-a103961e80dd",
      "cell_type": "code",
      "source": "import pandas as pd\nimport seaborn as sns\nimport matplotlib as plt\ndata=({name:\"tina\",\"lara\",\"lia\",\"jo\",\n       class:'a','b','d','a',\n       grade:90,66,78,98,50,\n       subject:\"math\",\"english\",\"frence\",\"science\"})\n\ndf=pd.dataframe(data)\ndf=pd.to_csv(\"data.csv\")\ndf=pd.read_csv(\"data.csv\")\nprint(df.head())\n\nprint(\"math:\",df[\"math\"].mean())\nprint(\"scince;\",df[\"science\"].mean())\nprint(\"english:\",df[\"grade\"].mean())\n\nbest_math=df.loc[df[math\"].idxmax()]\n    print(\"best student in math:\",best_math[\"name\"],\"in grade\",best_math[\"math\"])\n    \n\ndf.dropna\ndf[\"name\"]=df[\"name\"].astype(int)\ndf[\"grade\"]=df[\"grade\"].astype(int)\ndf[\"subject\"]=df[\"subject\"].astype(int)\n\ndf.shape\nprint(\"\\n statical description for numbers\")\ndf.describe\nprint(\"\\n num of values in each category\")\ndf([\"category\"].values_counts())\n\nsns.countplot(x=\"category\",df=data)\nplt.title(\"num of people in category\")\nplt.show()\n\nsns.scatterplot(x=\"grade\",y=\"subject\")\nplt.title(\"there are the relationship batween them\")\nplt.xlabel(\" the grades for students\")\nplt.ylabel(\" the subjects for students\")\nplt.show()\n\nsns.hisplot(df[\"name\"],bins=5,kde=true)\nplt.title(\"name\")\nplt.show()\n\nplt.bar(df[\"name\"],df[\"math\"],color=\"skyblue\")\nplt.title(\"students grade in math\")\nplt.xlabel(\"student name\")\nplt.ylabel(\"grade\")\nplt.show()",
      "metadata": {
        "trusted": true
      },
      "outputs": [
        {
          "ename": "<class 'SyntaxError'>",
          "evalue": "unterminated string literal (detected at line 18) (<ipython-input-1-6b64d41243ae>, line 18)",
          "traceback": [
            "\u001b[0;36m  Cell \u001b[0;32mIn[1], line 18\u001b[0;36m\u001b[0m\n\u001b[0;31m    best_math=df.loc[df[math\"].idxmax()]\u001b[0m\n\u001b[0m                            ^\u001b[0m\n\u001b[0;31mSyntaxError\u001b[0m\u001b[0;31m:\u001b[0m unterminated string literal (detected at line 18)\n"
          ],
          "output_type": "error"
        }
      ],
      "execution_count": 1
    },
    {
      "id": "0c44c320-c919-4ba8-8fd4-509eabd9049c",
      "cell_type": "code",
      "source": "",
      "metadata": {
        "trusted": true
      },
      "outputs": [],
      "execution_count": null
    }
  ]
}