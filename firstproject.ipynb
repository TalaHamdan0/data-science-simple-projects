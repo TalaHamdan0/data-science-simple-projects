{
  "metadata": {
    "kernelspec": {
      "name": "python",
      "display_name": "Python (Pyodide)",
      "language": "python"
    },
    "language_info": {
      "codemirror_mode": {
        "name": "python",
        "version": 3
      },
      "file_extension": ".py",
      "mimetype": "text/x-python",
      "name": "python",
      "nbconvert_exporter": "python",
      "pygments_lexer": "ipython3",
      "version": "3.8"
    }
  },
  "nbformat_minor": 5,
  "nbformat": 4,
  "cells": [
    {
      "id": "ba7c22b8-6347-41f8-920a-509029f299b0",
      "cell_type": "code",
      "source": " import pandas as pd\nimport matplotlib.pyplot as plt\nimport seaborn as sns",
      "metadata": {
        "trusted": true
      },
      "outputs": [],
      "execution_count": null
    },
    {
      "id": "a72a4104-70b1-4593-8d3d-fe8a3345932c",
      "cell_type": "code",
      "source": "#read the file\ndf=pd.read_csv(\"data.csv\")\n#show first five rows\nprint(df.head())",
      "metadata": {
        "trusted": true
      },
      "outputs": [],
      "execution_count": null
    },
    {
      "id": "4dd8cbb0-2936-4d2c-a056-d58891e43087",
      "cell_type": "code",
      "source": "#data cleansing\ndf=df.dropna #remove the empty values\ndf=df.rename(columns={\"oldname\":\"newname\"}) # rename columns if they have strange names\ndf[\"age\"]=df[\"age\"].astype(int) # check  the type of columns\n",
      "metadata": {
        "trusted": true
      },
      "outputs": [],
      "execution_count": null
    },
    {
      "id": "9a18a78a-0dc4-49ae-a114-c494f23edd08",
      "cell_type": "code",
      "source": "#exploratory data analsis\nprint(df.shape) #number of rows and columns\nprint(df.describe()) #statiscal description of numbers\nprint(df[\"category\"].value_counts()) #ex: number of people in each category\n",
      "metadata": {
        "trusted": true
      },
      "outputs": [],
      "execution_count": null
    },
    {
      "id": "b651b394-a110-494f-b414-3f130dd5703a",
      "cell_type": "code",
      "source": "#visualization\n#ipmort the librares matplotlib and seaborn\n\nsns.countplot(x=\"category\",data=df) #bar chart for each category\nplt.show()\nsns.scatterplot(x=\"age\",y=\"score\",data=df) #drawing relationship between two coulmns\nplt.show()\n",
      "metadata": {
        "trusted": true
      },
      "outputs": [],
      "execution_count": null
    },
    {
      "id": "046e4642-6f74-48f2-bd82-f9fa23e0515b",
      "cell_type": "markdown",
      "source": "#**first project to me ** ",
      "metadata": {}
    },
    {
      "id": "105dbea3-2d9b-44b2-90e9-b348366a2475",
      "cell_type": "code",
      "source": "",
      "metadata": {
        "trusted": true
      },
      "outputs": [],
      "execution_count": null
    }
  ]
}